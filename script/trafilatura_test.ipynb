{
 "cells": [
  {
   "cell_type": "code",
   "execution_count": 1,
   "metadata": {},
   "outputs": [],
   "source": [
    "import trafilatura\n",
    "\n",
    "from trafilatura.utils import decode_response\n",
    "from bs4 import BeautifulSoup"
   ]
  },
  {
   "cell_type": "code",
   "execution_count": 4,
   "metadata": {},
   "outputs": [],
   "source": [
    "response = trafilatura.fetch_url(\n",
    "    'https://www.cnblogs.com/operationhome/p/16637763.html',\n",
    "    decode=False\n",
    "    )\n",
    "downloaded = decode_response(response)"
   ]
  },
  {
   "cell_type": "code",
   "execution_count": 2,
   "metadata": {},
   "outputs": [],
   "source": [
    "response = trafilatura.fetch_url(\n",
    "    'https://zhuanlan.zhihu.com/p/673245294',\n",
    "    decode=False\n",
    "    )\n",
    "downloaded = decode_response(response)"
   ]
  },
  {
   "cell_type": "code",
   "execution_count": 6,
   "metadata": {},
   "outputs": [
    {
     "name": "stdout",
     "output_type": "stream",
     "text": [
      "<class 'int'>\n"
     ]
    }
   ],
   "source": [
    "print(type(response.status))\n",
    "# print(downloaded)"
   ]
  },
  {
   "cell_type": "code",
   "execution_count": 5,
   "metadata": {},
   "outputs": [
    {
     "name": "stdout",
     "output_type": "stream",
     "text": [
      "# 一次服务器被入侵的处理过程分享\n",
      "下文中的，给文件和目录加锁，是指给文件和目录增加了一些属性，只读等。 `chattr +ia `\n",
      "## 一、服务器入侵现象\n",
      "近期有一个朋友的服务器(自己做了网站)好像遭遇了入侵，具体现象是： 服务器 `CPU` 资源长期 100%，负载较高。 服务器上面的服务不能正常提供服务。\n",
      "朋友处理了一会没有解决，我开始想说我不是搞安全的，我怎么会，但朋友开出了天价，**一顿海底捞**，我在生活和现实面前低头了。 开始上手看看了。\n",
      "## 二、服务器排查和处理\n",
      "### 2.1、服务器被入侵的可能原因\n",
      "- 服务器 `ssh` 密码 设置得很简单。\n",
      "- 腾讯云安全组范围放得很大。\n",
      "- 使用了宝塔，宝塔面板的密码也是很简单的密码(应该不是这个入侵入口)。\n",
      "### 2.2、排查和处理步骤\n",
      "-\n",
      "`ps -ef` / `top` 找出占用进程最大的服务\n",
      "**问题现象**\n",
      "`ps/top` 命令 已经被替换了。\n",
      "-\n",
      "查找详细的入侵痕迹 `last` 或者 `grep 'Accepted' /var/log/secure`。\n",
      "**问题现象**\n",
      "lighthouse 腾讯云轻量服务器\n",
      "我们在这里就可以看到，有一些`境外IP 34.215.138.2 `成功登录了，这些 `IP`不是我们的正常登录。 在 `/var/log/secure` 日志里，我看到了 `IP 34.215.138.2` 尝试登录不到500次 就已经破解成功了。\n",
      "**处理措施**\n",
      "这里我们立马采取了第一个措施，\n",
      "-\n",
      "在腾讯云安全组限制了 SSH 的登录`IP`， 之前的安全组 SSH 是放行所有`IP`。\n",
      "-\n",
      "将 SSH ROOT 密码修改。\n",
      "-\n",
      "`/root/.ssh/authorized_keys` 备份，并清空。\n",
      "这时我们就遇到了权限的问题，这个晚点展开讲，因为我们已经限制了源`IP`， 所以这个我们可以晚点来处理。\n",
      "-\n",
      "-\n",
      "查看最近新增的一些用户\n",
      "**问题现象**\n",
      "`cat /etc/passwd`\n",
      "**处理措施**\n",
      "锁定用户\n",
      "-\n",
      "我这里不计划去找进程（已经在新建一台版本一致的系统， 来拷贝 `top` 和 `ps` 命令，需要一小会，我们趁这个时间，先看看其他），因为之前朋友重启过服务器，发现服务器启动过一会才会负载较高。我认为入侵者应该放了一些定时任务和启动脚本里面。\n",
      "**问题现象**\n",
      "定时任务\n",
      "`crond` 读取配置文件会从以下几个路径读取：\n",
      "- `/var/spool/cron/` , 由`crontab -e` 进行写入，配置文件无需指定用户\n",
      "- `/etc/crontab` ，只能`root` 进行编辑，配置文件需指定用户\n",
      "- `/etc/cron.d/` ,在此文件夹下创建定时任务文件，配置文件需指定用户\n",
      "- `/etc/cron.*`\n",
      "`/var/spool/cron/` 未找到(后面会说到这里有障眼法)\n",
      "`/etc/crontab` 未找到(后面会说到这里有障眼法)\n",
      "但是我在 `/var/log/cron` 一直看到有任务执行。每间隔5分钟。\n",
      "**处理措施**\n",
      "这里我们先做的操作就是，先把 `/usr/lib/mysql/mysql` 和 `/sbin/httpss` 给删除。删除的时候还是提示没有权限。我们知道这些文件应该是加琐了，所以我开始解锁，我们发现 `chattr` 也被替换和锁住了。 所以不能操作下去了。\n",
      "开机启动脚本\n",
      "`/etc/rc.local `， 我们也发现了一个脚本。\n",
      "但是这个文件好像不存在的，我们就把这个给注释了。\n",
      "-\n",
      "还原更改了 `top`、`ps`、`chattr`、`lsattr`.\n",
      "-\n",
      "首先我们从相同版本的机器拷贝了 `chattr`、`lsattr`， 我们得先操作这个， 因为我们的 `top` 和 `ps` 都被锁住了。\n",
      "-\n",
      "我将文件上传至 `/tmp` 目录，然后增加可执行权限，然后先给 `/usr/bin/chattr` 解除锁定。\n",
      "-\n",
      "执行完之后，发现还是不能替换 `/usr/bin/chattr`。 最后耗费了一段时间才反应到，入侵者可能不仅仅加锁了文件还加锁了 `/usr/bin/`。\n",
      "-\n",
      "解锁目录\n",
      "-\n",
      "这下才能把 `/usr/bin/chattr` 给替换掉。\n",
      "-\n",
      "接下来参考这些，我们把 `top` 和 `ps` 、`lsattr` 给还原了。\n",
      "部分截图\n",
      "-\n",
      "## 三、本次入侵需要带来启示的点\n",
      "-\n",
      "`ps` 、`top` 、`chattr` 、`lsattr`\n",
      "在这些命令被替换了，并且我们想还原又还原不了的场景，我们可以拷贝同版本的机器相同的命令放在其它目录，用这些命令来解除入侵者将它已经替换并锁定了文件。 注意有些入侵者不仅会在文件层面加锁，还会在当前的文件的目录这一层加锁。我之前在这个上面困惑了一段时间。\n",
      "-\n",
      "文件内容隐藏\n",
      "上文中，我执行 `crontab -l` 和 cat 查看 `/etc/cron.d/` 下面的文件。发现文件没有内容。\n",
      "其实不知道使用了什么特殊字符还是什么隐藏了， 其实是存在定时任务的。\n",
      "示例：\n",
      "这个配置是如何导致 cat/more 看不了的, 今天再次看了下，这个文件可能是被当成了数据文件，因为我把这个文件 file 查看了之后，文件属性是data. 然后文件包含的特殊字符。导致隐藏了，我在这里 服务器入侵之找出隐藏字符的原理 把这个来龙去脉给讲清楚了。\n",
      "-\n",
      "其中一个脚本。\n",
      "我们可以看到这个脚本其实一直在 更改 `/etc/ld.so.preload` 的内容。 并且在关闭一些扫描软件和系统的服务。\n",
      "在 Linux 操作系统的动态链接库加载过程中，动态链接器会读取 LD_PRELOAD 环境变量的值和默认配置文件 /etc/ld.so.preload 的文件内容，并将读取到的动态链接库进行预加载，即使程序不依赖这些动态链接库，LD_PRELOAD 环境变量和 /etc/ld.so.preload 配置文件中指定的动态链接库依然会被装载，它们的优先级比 LD_LIBRARY_PATH 环境变量所定义的链接库查找路径的文件优先级要高，所以能够提前于用户调用的动态库载入。\n",
      "——段落引自《警惕利用 Linux 预加载型恶意动态链接库的后门》\n",
      "我已经删除了 `/usr/local/lib/libprocesshider.so` 文件，之后每次执行命令会有这个报错。\n",
      "我在清空文件 `/etc/ld.so.preload` 之后，我发现好了一会后，还是出现这个，我再看 `/etc/ld.so.preload` 文件，里面又写了 `/usr/local/lib/libprocesshider.so` ，我怀疑还有定时任务，但是我找了一会定时任务，还是没有找到。 后面在查看异常进程的时候，我看到了这个进程\n",
      "发现这个脚本的就是一直在循环执行上面内容。 将这个进程 kill 后，然后删除脚本。\n",
      "## 四、本次服务器被入侵的一些启示\n",
      "-\n",
      "用好云厂家的安全组。对一些关键端口，放行规则尽量最小/\n",
      "-\n",
      "服务器相关的一些密码尽量增加复杂性。\n",
      "-\n",
      "增加对一些关键文件的监控. (通过监控软件监控 md5值)\n",
      "- /etc/passwd\n",
      "- /etc/shadow\n",
      "- /etc/group\n",
      "- /root/.bash_history\n",
      "- /root/.ssh/authorized_keys\n",
      "- /etc/ssh/sshd_config\n",
      "- /etc/profile\n",
      "- /var/spool/cron/root\n",
      "- /etc/crontab\n",
      "- /etc/ld.so.preload\n",
      "- /etc/rc.local\n",
      "- lsof\n",
      "- ps\n",
      "- netstat\n",
      "- top\n",
      "- ls\n",
      "- pstree\n",
      "- last\n",
      "- history\n",
      "- sudo\n",
      "- password\n",
      "- `chattr`\n",
      "- `lsattr`\n",
      "-\n",
      "服务器入侵之后，我们需要怎么处理才是最好的。\n",
      "https://cloud.tencent.com/document/product/296/9604\n",
      "https://help.aliyun.com/document_detail/40994.htm?spm=a2c4g.11186623.0.0.75c56956NVPBST\n",
      "-\n",
      "服务器如果有开放SSH 远程登录，可以设置限制登录(安全组、或者服务)，只放行自己的`IP`. 查找详细的入侵痕迹 `last` 或者 `grep 'Accepted' /var/log/secure`\n",
      "/root/.ssh/authorized_keys /etc/passwd 这些文件也可以看下。将一些新建的用户锁定。\n",
      "-\n",
      "服务器如果可以关闭外网，就关闭外网。 在安全组层面设置下，或者路由或者NAT。\n",
      "-\n",
      "首先看下 `ps/top` 命令有没有被篡改， 如果有的话， 从其他正常的机器上拷贝至服务器上。 然后执行查看异常进程。也要查询下 `/etc/ld.so.preload` 是否有被篡改。如果有的的话，记得清空里面的内容，然后将对应的文件删除或者重命名。\n",
      "如果使用过程中遇到了文件不可删，不可改的问题，需要使用 `chattr -ia 文件名` 如果 `chattr` 也被串改，那就需要从别的机器拷贝。然后复原。\n",
      "-\n",
      "如果上述没有找到，可以通过 `netstat` 间接查看异常的连接从而查询异常进程。\n",
      "-\n",
      "检查开机启动 和 `crontab` 相关的内容 。\n",
      "-\n",
      "检查异常进程。\n",
      "-\n",
      "以上就是这次入侵的处理过程和得到的一些小启示，后续有了解新的会继续补充。\n",
      "**20200906 增加更新内容**\n",
      "cat 查看内容为什么被隐藏了，我在这里 服务器入侵之找出隐藏字符的原理 把这个来龙去脉给讲清楚了。\n"
     ]
    }
   ],
   "source": [
    "text = trafilatura.extract(downloaded, include_formatting=True)\n",
    "print(text)"
   ]
  },
  {
   "cell_type": "code",
   "execution_count": 7,
   "metadata": {},
   "outputs": [
    {
     "name": "stdout",
     "output_type": "stream",
     "text": [
      "<class 'str'>\n"
     ]
    }
   ],
   "source": [
    "print(type(text))"
   ]
  },
  {
   "cell_type": "code",
   "execution_count": null,
   "metadata": {},
   "outputs": [],
   "source": []
  },
  {
   "cell_type": "markdown",
   "metadata": {},
   "source": [
    "`\n",
    "j = 0\n",
    "k = 0\n",
    "`"
   ]
  }
 ],
 "metadata": {
  "kernelspec": {
   "display_name": "Taide",
   "language": "python",
   "name": "python3"
  },
  "language_info": {
   "codemirror_mode": {
    "name": "ipython",
    "version": 3
   },
   "file_extension": ".py",
   "mimetype": "text/x-python",
   "name": "python",
   "nbconvert_exporter": "python",
   "pygments_lexer": "ipython3",
   "version": "3.10.0"
  }
 },
 "nbformat": 4,
 "nbformat_minor": 2
}

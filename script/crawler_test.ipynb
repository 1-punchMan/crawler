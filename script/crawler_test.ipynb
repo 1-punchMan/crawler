{
 "cells": [
  {
   "cell_type": "code",
   "execution_count": 3,
   "metadata": {},
   "outputs": [],
   "source": [
    "import requests\n",
    "from bs4 import BeautifulSoup\n",
    "# from selenium import webdriver\n",
    "from seleniumwire import webdriver\n",
    "import json, time, random, os, traceback, re, socket, sys\n",
    "from tqdm import tqdm"
   ]
  },
  {
   "cell_type": "code",
   "execution_count": 4,
   "metadata": {},
   "outputs": [],
   "source": [
    "CHROMEDRIVER_PATH = \"/home/zchen/crawler/chromedriver\"\n",
    "\n",
    "AGENTS = [\n",
    "    'Mozilla/5.0 (Windows NT 10.0; Win64; x64) AppleWebKit/537.36 (KHTML, like Gecko) Chrome/85.0.4183.102 Safari/537.36'\n",
    "    \"Mozilla/5.0 (Windows NT 6.3; WOW64) AppleWebKit/537.36 (KHTML, like Gecko) Chrome/39.0.2171.95 Safari/537.36\",\n",
    "    \"Mozilla/5.0 (Macintosh; Intel Mac OS X 10_9_2) AppleWebKit/537.36 (KHTML, like Gecko) Chrome/35.0.1916.153 Safari/537.36\",\n",
    "    \"Mozilla/5.0 (Windows NT 6.1; WOW64; rv:30.0) Gecko/20100101 Firefox/30.0\",\n",
    "    \"Mozilla/5.0 (Macintosh; Intel Mac OS X 10_9_2) AppleWebKit/537.75.14 (KHTML, like Gecko) Version/7.0.3 Safari/537.75.14\",\n",
    "    \"Mozilla/5.0 (compatible; MSIE 10.0; Windows NT 6.2; Win64; x64; Trident/6.0)\",\n",
    "    'Mozilla/5.0 (Windows; U; Windows NT 5.1; it; rv:1.8.1.11) Gecko/20071127 Firefox/2.0.0.11',\n",
    "    'Opera/9.25 (Windows NT 5.1; U; en)',\n",
    "    'Mozilla/4.0 (compatible; MSIE 6.0; Windows NT 5.1; SV1; .NET CLR 1.1.4322; .NET CLR 2.0.50727)',\n",
    "    'Mozilla/5.0 (compatible; Konqueror/3.5; Linux) KHTML/3.5.5 (like Gecko) (Kubuntu)',\n",
    "    'Mozilla/5.0 (X11; U; Linux i686; en-US; rv:1.8.0.12) Gecko/20070731 Ubuntu/dapper-security Firefox/1.5.0.12',\n",
    "    'Lynx/2.8.5rel.1 libwww-FM/2.14 SSL-MM/1.4.1 GNUTLS/1.2.9',\n",
    "    \"Mozilla/5.0 (X11; Linux i686) AppleWebKit/535.7 (KHTML, like Gecko) Ubuntu/11.04 Chromium/16.0.912.77 Chrome/16.0.912.77 Safari/535.7\",\n",
    "    \"Mozilla/5.0 (X11; Ubuntu; Linux i686; rv:10.0) Gecko/20100101 Firefox/10.0 \"\n",
    "]\n",
    "REFERERS = [\n",
    "    \"https://en.rti.org.tw\",\n",
    "    \"https://google.com\",\n",
    "    \"https://YouTube.com\",\n",
    "    \"https://Facebook.com\",\n",
    "    \"https://twitter.com\",\n",
    "    \"https://instagram.com\",\n",
    "    \"https://baidu.com\",\n",
    "    \"https://wikipedia.org\",\n",
    "    \"https://yandex.ru\",\n",
    "    \"https://yahoo.com\"\n",
    "]\n",
    "PROXIES = ['34.82.235.224:3128']\n",
    "\n",
    "PAGE_ADDRESS_PREFIX = \"https://news.pts.org.tw/news/english?page=\"\n",
    "ADDRESS_PREFIX = \"https://news.pts.org.tw/article\""
   ]
  },
  {
   "cell_type": "code",
   "execution_count": 9,
   "metadata": {},
   "outputs": [],
   "source": [
    "ch_options = webdriver.ChromeOptions()\n",
    "\n",
    "# 不加载图片,加快访问速度\n",
    "ch_options.add_experimental_option(\"prefs\", {\"profile.mamaged_default_content_settings.images\": 2})\n",
    "ch_options.add_argument('--headless') # 无头模式，可不启用界面显示运行\n",
    "ch_options.add_argument('--disable-gpu') # 禁用GPU加速\n",
    "\n",
    "# 此步骤很重要，设置为开发者模式，防止被各大网站识别出来使用了Selenium\n",
    "ch_options.add_experimental_option('excludeSwitches', ['enable-automation'])\n",
    "# ch_options.add_experimental_option(\"debuggerAddress\", \"127.0.0.1:9999\")\n",
    "# ch_options.add_argument('--proxy--server=127.0.0.1:8080')\n",
    "ch_options.add_argument('--disable-infobars')  # 禁用浏览器正在被自动化程序控制的提示\n",
    "ch_options.add_argument('--incognito')\n",
    "\n",
    "# ch_options.add_argument(f'--user-agent=\"{random.choice(AGENTS)}\"') # 设置请求头的User-Agent\n",
    "ch_options.add_argument(f'--Referer=\"{random.choice(REFERERS)}\"') # 设置请求头的User-Agent\n",
    "\n",
    "browser = webdriver.Chrome(\n",
    "    options=ch_options,\n",
    "    # service=webdriver.ChromeService(executable_path=CHROMEDRIVER_PATH)\n",
    "    )\n",
    "\n",
    "# Create a request interceptor\n",
    "def interceptor(request):\n",
    "    # del request.headers['user-agent']  # Delete the header first\n",
    "    del request.headers['Referer']\n",
    "    \n",
    "    # request.headers['user-agent'] = random.choice(AGENTS)\n",
    "    request.headers['Referer'] = random.choice(REFERERS)\n",
    "\n",
    "# Set the interceptor on the driver\n",
    "browser.request_interceptor = interceptor"
   ]
  },
  {
   "cell_type": "code",
   "execution_count": 5,
   "metadata": {},
   "outputs": [],
   "source": [
    "def request(browser, address, waiting_time=3):\n",
    "    browser.get(address)\n",
    "\n",
    "    # 等待页面 (JavaScript) 加载完成\n",
    "    time.sleep(waiting_time)\n",
    "\n",
    "    # 获取页面内容\n",
    "    content = browser.page_source\n",
    "    status_code = browser.requests[0].response.status_code\n",
    "    soup = BeautifulSoup(content, 'html.parser')\n",
    "\n",
    "    return soup, status_code"
   ]
  },
  {
   "cell_type": "code",
   "execution_count": 6,
   "metadata": {},
   "outputs": [],
   "source": [
    "def request(browser, address, waiting_time=3):\n",
    "    headers = {\n",
    "        'user-agent': random.choice(AGENTS),\n",
    "        'Referer': random.choice(REFERERS)\n",
    "    }\n",
    "    r = requests.get(\n",
    "        address,\n",
    "        headers=headers,\n",
    "        # proxies={'https': proxy}\n",
    "    )\n",
    "    soup = BeautifulSoup(r.text, 'html.parser')\n",
    "\n",
    "    return soup, r.status_code"
   ]
  },
  {
   "cell_type": "code",
   "execution_count": 7,
   "metadata": {},
   "outputs": [],
   "source": [
    "def crawl(browser, id, waiting_time=3):\n",
    "    art = {\"id\": id}\n",
    "    soup, status_code = request(\n",
    "        browser,\n",
    "        f\"{ADDRESS_PREFIX}/{id}\"\n",
    "        )\n",
    "    \n",
    "    # extract the info\n",
    "    info = soup.find('script', type=\"application/ld+json\")\n",
    "    if info is None:\n",
    "        print(\"info is None\")\n",
    "        return None, status_code\n",
    "    art[\"metadata\"] = info.text\n",
    "\n",
    "    # extract the headline\n",
    "    headline = soup.find('h1', class_=\"article-title\")\n",
    "    if headline is None:\n",
    "        print(\"headline is None\")\n",
    "        return None, status_code\n",
    "    art[\"headline\"] = headline.text\n",
    "\n",
    "    # extract the text\n",
    "    paras = soup.find('div', class_=\"post-article\")\n",
    "    if paras is None:\n",
    "        print(\"paras is None\")\n",
    "        return None, status_code\n",
    "    art[\"article_part\"] = str(paras)\n",
    "    \n",
    "    return art, status_code"
   ]
  },
  {
   "cell_type": "code",
   "execution_count": 8,
   "metadata": {},
   "outputs": [],
   "source": [
    "def extract_ids(browser, page_id):\n",
    "    soup, status_code = request(\n",
    "        browser,\n",
    "        f\"{PAGE_ADDRESS_PREFIX}{page_id}\"\n",
    "        )\n",
    "\n",
    "    # extract the IDs\n",
    "    links = [div.find(\"a\").get(\"href\") for div in soup.find_all('div', class_=\"col-7 col-md-12\")]\n",
    "    pref_len = len(\"/article/\")\n",
    "    return [int(link[pref_len:]) for link in links]"
   ]
  },
  {
   "cell_type": "code",
   "execution_count": 10,
   "metadata": {},
   "outputs": [
    {
     "name": "stdout",
     "output_type": "stream",
     "text": [
      "{'id': 629729, 'metadata': '{\"@context\":\"https://schema.org\",\"@type\":\"NewsArticle\",\"name\":\"President Departs for Central America 小英訪瓜地馬拉.貝里斯  行前發表談話 ｜ 公視新聞網 PNN\",\"description\":\"President Tsai Ing-wen embarked on a visit to Central American allies Guatemala and Belize on March 29. Her 10-day, nine-night trip will include transits in New York on her way there and in Los Angele\",\"image\":[\"https://news-data.pts.org.tw/media/140040/cover.jpg\",\"https://news-data.pts.org.tw/media/140040/cover.jpg\"],\"author\":{\"@type\":\"person\",\"name\":\"C. Chuang\"},\"articleBody\":\"President Tsai Ing-wen embarked on a visit to Central American allies Guatemala and Belize on March 29. Her 10-day, nine-night trip will include transits in New York on her way there and in Los Angeles on the way back before she returns to Taiwan on April 7. One day before her trip, a briefing on Tsai\\'s transit for foreign reporters by U.S. Assistant Secretary of State for East Asian and Pacific Affairs Daniel J. Kritenbrink was first postponed and then canceled.Tsai Ing-wen, President: “Freedom, democracy, and sustainability are the values of Taiwan that we want to share with our good friends from all over the world. Leading a country out is a president\\'s most important responsibility. During this visit, we will convey Taiwan\\'s three viewpoints to the world. The first is that Taiwan will share the value of freedom and openness with the world. We are a maritime nation and the world\\'s Taiwan so we will absolutely not isolate ourselves in a corner of the Taiwan Strait. We also hope to find a bigger space for Taiwan as well as business opportunities during this visit.”總統蔡英文表示：「自由、民主、永續，是我們想和全世界的好朋友分享的台灣價值，帶領國家走出去就是總統最重要的任務，那這次出訪我們將會向世界傳達台灣的三個主張，第一，台灣會和世界共享自由開放的價值，我們是海洋國家，是世界的台灣，所以我們絕對不會把自己封閉在台灣海峽的一角，我們也期待在出訪的時候，為台灣尋找更大的空間，以及商機。」\",\"url\":\"https://news.pts.org.tw/article/629729\",\"headline\":\"President Departs for Central America 小英訪瓜地馬拉.貝里斯  行前發表談話 ｜ 公視新聞網 PNN\",\"datePublished\":\"2023-03-29T09:29:40.000000Z\",\"keywords\":[\"Taiwan\",\"瓜地馬拉\",\"貝里斯\"],\"publisher\":{\"@type\":\"Organization\",\"name\":\"公視新聞網\",\"url\":\"https://news.pts.org.tw/\",\"logo\":{\"@type\":\"ImageObject\",\"url\":\"https://d3prffu8f9hpuw.cloudfront.net/news/static/public/images/logo.png\"}},\"mainEntityOfPage\":\"https://news.pts.org.tw/article/629729\",\"dateModified\":\"2023-03-29T13:05:05.000000Z\"}', 'headline': 'President Departs for Central America 小英訪瓜地馬拉.貝里斯  行前發表談話', 'article_part': '<div class=\"post-article text-align-left\">\\n<p>President Tsai Ing-wen embarked on a visit to Central American allies Guatemala and Belize on March 29. Her 10-day, nine-night trip will include transits in New York on her way there and in Los Angeles on the way back before she returns to Taiwan on April 7. One day before her trip, a briefing on Tsai\\'s transit for foreign reporters by U.S. Assistant Secretary of State for East Asian and Pacific Affairs Daniel J. Kritenbrink was first postponed and then canceled.</p><hr/><p>Tsai Ing-wen, President: “Freedom, democracy, and sustainability are the values of Taiwan that we want to share with our good friends from all over the world. Leading a country out is a president\\'s most important responsibility. During this visit, we will convey Taiwan\\'s three viewpoints to the world. The first is that Taiwan will share the value of freedom and openness with the world. We are a maritime nation and the world\\'s Taiwan so we will absolutely not isolate ourselves in a corner of the Taiwan Strait. We also hope to find a bigger space for Taiwan as well as business opportunities during this visit.”<br/><br/><br/><br/><br/>總統蔡英文表示：「自由、民主、永續，是我們想和全世界的好朋友分享的台灣價值，帶領國家走出去就是總統最重要的任務，那這次出訪我們將會向世界傳達台灣的三個主張，第一，台灣會和世界共享自由開放的價值，我們是海洋國家，是世界的台灣，所以我們絕對不會把自己封閉在台灣海峽的一角，我們也期待在出訪的時候，為台灣尋找更大的空間，以及商機。」<br/><br/>\\xa0</p>\\n</div>'}\n",
      "\n",
      "status:\n",
      "200\n"
     ]
    }
   ],
   "source": [
    "art, status = crawl(browser, 629729)\n",
    "print(art)\n",
    "print()\n",
    "print(\"status:\")\n",
    "print(status)"
   ]
  },
  {
   "cell_type": "code",
   "execution_count": 10,
   "metadata": {},
   "outputs": [
    {
     "name": "stdout",
     "output_type": "stream",
     "text": [
      "[630147, 630146, 629937, 629936, 629934, 629933, 629932, 629731, 629730]\n"
     ]
    }
   ],
   "source": [
    "ids = extract_ids(browser, 1)\n",
    "print(ids)"
   ]
  },
  {
   "cell_type": "code",
   "execution_count": 4,
   "metadata": {},
   "outputs": [
    {
     "name": "stdout",
     "output_type": "stream",
     "text": [
      "[]\n"
     ]
    }
   ],
   "source": [
    "soup = BeautifulSoup(\"\", 'html.parser')\n",
    "print(soup.find_all(\"a\"))"
   ]
  },
  {
   "cell_type": "code",
   "execution_count": 5,
   "metadata": {},
   "outputs": [
    {
     "name": "stderr",
     "output_type": "stream",
     "text": [
      "100%|██████████| 10/10 [00:00<00:00, 49578.06it/s]"
     ]
    },
    {
     "name": "stdout",
     "output_type": "stream",
     "text": [
      "0\n",
      "1\n",
      "2\n",
      "3\n",
      "4\n",
      "5\n",
      "6\n",
      "7\n",
      "8\n",
      "9\n"
     ]
    },
    {
     "name": "stderr",
     "output_type": "stream",
     "text": [
      "\n"
     ]
    }
   ],
   "source": [
    "for ind, i in tqdm(list(enumerate(range(10)))):\n",
    "    print(i)"
   ]
  },
  {
   "cell_type": "code",
   "execution_count": 1,
   "metadata": {},
   "outputs": [
    {
     "ename": "AttributeError",
     "evalue": "'NoneType' object has no attribute 'find'",
     "output_type": "error",
     "traceback": [
      "\u001b[1;31m---------------------------------------------------------------------------\u001b[0m",
      "\u001b[1;31mAttributeError\u001b[0m                            Traceback (most recent call last)",
      "\u001b[1;32md:\\winuser\\Downloads\\crawler\\script\\crawler_test.ipynb Cell 11\u001b[0m line \u001b[0;36m2\n\u001b[0;32m      <a href='vscode-notebook-cell:/d%3A/winuser/Downloads/crawler/script/crawler_test.ipynb#X13sZmlsZQ%3D%3D?line=0'>1</a>\u001b[0m x \u001b[39m=\u001b[39m \u001b[39mNone\u001b[39;00m\n\u001b[1;32m----> <a href='vscode-notebook-cell:/d%3A/winuser/Downloads/crawler/script/crawler_test.ipynb#X13sZmlsZQ%3D%3D?line=1'>2</a>\u001b[0m x\u001b[39m.\u001b[39;49mfind()\n",
      "\u001b[1;31mAttributeError\u001b[0m: 'NoneType' object has no attribute 'find'"
     ]
    }
   ],
   "source": [
    "x = None\n",
    "x.find()"
   ]
  }
 ],
 "metadata": {
  "kernelspec": {
   "display_name": "Taide",
   "language": "python",
   "name": "python3"
  },
  "language_info": {
   "codemirror_mode": {
    "name": "ipython",
    "version": 3
   },
   "file_extension": ".py",
   "mimetype": "text/x-python",
   "name": "python",
   "nbconvert_exporter": "python",
   "pygments_lexer": "ipython3",
   "version": "3.10.0"
  }
 },
 "nbformat": 4,
 "nbformat_minor": 2
}

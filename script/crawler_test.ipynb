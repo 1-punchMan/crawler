{
 "cells": [
  {
   "cell_type": "code",
   "execution_count": 1,
   "metadata": {},
   "outputs": [],
   "source": [
    "import requests\n",
    "from bs4 import BeautifulSoup\n",
    "# from selenium import webdriver\n",
    "from seleniumwire import webdriver\n",
    "import json, time, random, os, traceback, re, socket, sys\n",
    "from tqdm import tqdm"
   ]
  },
  {
   "cell_type": "code",
   "execution_count": 2,
   "metadata": {},
   "outputs": [],
   "source": [
    "CHROMEDRIVER_PATH = \"/home/zchen/crawler/chromedriver\"\n",
    "\n",
    "AGENTS = [\n",
    "    'Mozilla/5.0 (Windows NT 10.0; Win64; x64) AppleWebKit/537.36 (KHTML, like Gecko) Chrome/85.0.4183.102 Safari/537.36'\n",
    "    \"Mozilla/5.0 (Windows NT 6.3; WOW64) AppleWebKit/537.36 (KHTML, like Gecko) Chrome/39.0.2171.95 Safari/537.36\",\n",
    "    \"Mozilla/5.0 (Macintosh; Intel Mac OS X 10_9_2) AppleWebKit/537.36 (KHTML, like Gecko) Chrome/35.0.1916.153 Safari/537.36\",\n",
    "    \"Mozilla/5.0 (Windows NT 6.1; WOW64; rv:30.0) Gecko/20100101 Firefox/30.0\",\n",
    "    \"Mozilla/5.0 (Macintosh; Intel Mac OS X 10_9_2) AppleWebKit/537.75.14 (KHTML, like Gecko) Version/7.0.3 Safari/537.75.14\",\n",
    "    \"Mozilla/5.0 (compatible; MSIE 10.0; Windows NT 6.2; Win64; x64; Trident/6.0)\",\n",
    "    'Mozilla/5.0 (Windows; U; Windows NT 5.1; it; rv:1.8.1.11) Gecko/20071127 Firefox/2.0.0.11',\n",
    "    'Opera/9.25 (Windows NT 5.1; U; en)',\n",
    "    'Mozilla/4.0 (compatible; MSIE 6.0; Windows NT 5.1; SV1; .NET CLR 1.1.4322; .NET CLR 2.0.50727)',\n",
    "    'Mozilla/5.0 (compatible; Konqueror/3.5; Linux) KHTML/3.5.5 (like Gecko) (Kubuntu)',\n",
    "    'Mozilla/5.0 (X11; U; Linux i686; en-US; rv:1.8.0.12) Gecko/20070731 Ubuntu/dapper-security Firefox/1.5.0.12',\n",
    "    'Lynx/2.8.5rel.1 libwww-FM/2.14 SSL-MM/1.4.1 GNUTLS/1.2.9',\n",
    "    \"Mozilla/5.0 (X11; Linux i686) AppleWebKit/535.7 (KHTML, like Gecko) Ubuntu/11.04 Chromium/16.0.912.77 Chrome/16.0.912.77 Safari/535.7\",\n",
    "    \"Mozilla/5.0 (X11; Ubuntu; Linux i686; rv:10.0) Gecko/20100101 Firefox/10.0 \"\n",
    "]\n",
    "REFERERS = [\n",
    "    \"https://en.rti.org.tw\",\n",
    "    \"https://google.com\",\n",
    "    \"https://YouTube.com\",\n",
    "    \"https://Facebook.com\",\n",
    "    \"https://twitter.com\",\n",
    "    \"https://instagram.com\",\n",
    "    \"https://baidu.com\",\n",
    "    \"https://wikipedia.org\",\n",
    "    \"https://yandex.ru\",\n",
    "    \"https://yahoo.com\"\n",
    "]\n",
    "PROXIES = ['34.82.235.224:3128']\n",
    "\n",
    "PAGE_ADDRESS_PREFIX = \"https://www.cnblogs.com/pick/\"\n",
    "ADDRESS_PREFIX = \"https://news.pts.org.tw/article\""
   ]
  },
  {
   "cell_type": "code",
   "execution_count": 3,
   "metadata": {},
   "outputs": [],
   "source": [
    "ch_options = webdriver.ChromeOptions()\n",
    "\n",
    "# 不加载图片,加快访问速度\n",
    "ch_options.add_experimental_option(\"prefs\", {\"profile.mamaged_default_content_settings.images\": 2})\n",
    "ch_options.add_argument('--headless') # 无头模式，可不启用界面显示运行\n",
    "ch_options.add_argument('--disable-gpu') # 禁用GPU加速\n",
    "\n",
    "# 此步骤很重要，设置为开发者模式，防止被各大网站识别出来使用了Selenium\n",
    "ch_options.add_experimental_option('excludeSwitches', ['enable-automation'])\n",
    "# ch_options.add_experimental_option(\"debuggerAddress\", \"127.0.0.1:9999\")\n",
    "# ch_options.add_argument('--proxy--server=127.0.0.1:8080')\n",
    "ch_options.add_argument('--disable-infobars')  # 禁用浏览器正在被自动化程序控制的提示\n",
    "ch_options.add_argument('--incognito')\n",
    "\n",
    "# ch_options.add_argument(f'--user-agent=\"{random.choice(AGENTS)}\"') # 设置请求头的User-Agent\n",
    "ch_options.add_argument(f'--Referer=\"{random.choice(REFERERS)}\"')\n",
    "\n",
    "browser = webdriver.Chrome(\n",
    "    options=ch_options,\n",
    "    # service=webdriver.ChromeService(executable_path=CHROMEDRIVER_PATH)\n",
    "    )\n",
    "\n",
    "# Create a request interceptor\n",
    "def interceptor(request):\n",
    "    # del request.headers['user-agent']  # Delete the header first\n",
    "    del request.headers['Referer']\n",
    "    \n",
    "    # request.headers['user-agent'] = random.choice(AGENTS)\n",
    "    request.headers['Referer'] = random.choice(REFERERS)\n",
    "\n",
    "# Set the interceptor on the driver\n",
    "browser.request_interceptor = interceptor"
   ]
  },
  {
   "cell_type": "code",
   "execution_count": 24,
   "metadata": {},
   "outputs": [],
   "source": [
    "def scroll(browser):\n",
    "    js = '''\n",
    "        entry_list = document.getElementsByClassName(\"entry-list list\")[0];\n",
    "\n",
    "        wait = () => new Promise(resolve => {\n",
    "            window.scrollTo(0, document.body.scrollHeight);\n",
    "            resolve()\n",
    "            });\n",
    "\n",
    "        return (async () => {\n",
    "            await wait();\n",
    "            return entry_list.childElementCount\n",
    "            })();\n",
    "    '''\n",
    "    target_len = 150\n",
    "    while browser.execute_script(js) < target_len:\n",
    "        time.sleep(0.5)\n",
    "\n",
    "def request(browser, address, perform_some_actions=None, waiting_time=3):\n",
    "    browser.get(address)\n",
    "\n",
    "    # 等待页面 (JavaScript) 加载完成\n",
    "    time.sleep(waiting_time)\n",
    "\n",
    "    if perform_some_actions is not None:\n",
    "        perform_some_actions(browser)\n",
    "\n",
    "    # 获取页面内容\n",
    "    content = browser.page_source\n",
    "    status_code = browser.requests[0].response.status_code\n",
    "    soup = BeautifulSoup(content, 'html.parser')\n",
    "\n",
    "    return soup, status_code"
   ]
  },
  {
   "cell_type": "code",
   "execution_count": 4,
   "metadata": {},
   "outputs": [],
   "source": [
    "def request(browser, address, waiting_time=3):\n",
    "    headers = {\n",
    "        'user-agent': random.choice(AGENTS),\n",
    "        'Referer': random.choice(REFERERS)\n",
    "    }\n",
    "    r = requests.get(\n",
    "        address,\n",
    "        headers=headers,\n",
    "        # proxies={'https': proxy}\n",
    "    )\n",
    "    soup = BeautifulSoup(r.text, 'html.parser')\n",
    "\n",
    "    return soup, r.status_code"
   ]
  },
  {
   "cell_type": "code",
   "execution_count": 7,
   "metadata": {},
   "outputs": [],
   "source": [
    "def crawl(browser, id, waiting_time=3):\n",
    "    art = {\"id\": id}\n",
    "    soup, status_code = request(\n",
    "        browser,\n",
    "        f\"{ADDRESS_PREFIX}/{id}\"\n",
    "        )\n",
    "    \n",
    "    # extract the info\n",
    "    info = soup.find('script', type=\"application/ld+json\")\n",
    "    if info is None:\n",
    "        print(\"info is None\")\n",
    "        return None, status_code\n",
    "    art[\"metadata\"] = info.text\n",
    "\n",
    "    # extract the headline\n",
    "    headline = soup.find('h1', class_=\"article-title\")\n",
    "    if headline is None:\n",
    "        print(\"headline is None\")\n",
    "        return None, status_code\n",
    "    art[\"headline\"] = headline.text\n",
    "\n",
    "    # extract the text\n",
    "    paras = soup.find('div', class_=\"post-article\")\n",
    "    if paras is None:\n",
    "        print(\"paras is None\")\n",
    "        return None, status_code\n",
    "    art[\"article_part\"] = str(paras)\n",
    "    \n",
    "    return art, status_code"
   ]
  },
  {
   "cell_type": "code",
   "execution_count": 12,
   "metadata": {},
   "outputs": [],
   "source": [
    "def extract_zhihu_links(soup):\n",
    "    # print(soup.prettify())\n",
    "    title_tag_list = soup.find_all(class_=\"ContentItem-title\")\n",
    "    return [title_tag.find(\"a\").get(\"href\") for title_tag in title_tag_list]\n",
    "\n",
    "def extract_juejin_links(soup):\n",
    "    # print(soup.prettify())\n",
    "    title_tag_list = soup.find_all(class_=\"title-row\")\n",
    "    return [title_tag.find(\"a\").get(\"href\") for title_tag in title_tag_list]\n",
    "\n",
    "def extract_links(browser, link, extract, perform_some_actions=None):\n",
    "    soup, status_code = request(\n",
    "        browser,\n",
    "        link,\n",
    "        perform_some_actions\n",
    "        )\n",
    "\n",
    "    # extract the IDs\n",
    "    return extract(soup)"
   ]
  },
  {
   "cell_type": "code",
   "execution_count": 25,
   "metadata": {},
   "outputs": [
    {
     "name": "stdout",
     "output_type": "stream",
     "text": [
      "158\n",
      "['/post/7316349124599808036', '/post/7316357622847963155', '/post/7316354375700447270', '/post/7316202809384468489', '/post/7316565794149924879', '/post/7316349124599758884', '/post/7316357622848208915', '/post/7316357622847881235', '/post/7316171289097945122', '/post/7316399461558091813', '/post/7316447817161572387', '/post/7316430287842623514', '/post/7316409548994625574', '/post/7316354375701168166', '/post/7316409548994527270', '/post/7316354375701151782', '/post/7316203818651435017', '/post/7316374543861121058', '/post/7316357622848126995', '/post/7316347993790595108', '/post/7316321509857263656', '/post/7316354375700987942', '/post/7316357622847930387', '/post/7316357622847782931', '/post/7316097536548552743', '/post/7316382839220748288', '/post/7316374543860760610', '/post/7316321509857034280', '/post/7316415580101525558', '/post/7316451458840592419', '/post/7316447817161392163', '/post/7316539465022144512', '/post/7316450414157053967', '/post/7316451458839887907', '/post/7316539465022291968', '/post/7316540469320597539', '/post/7316450414158037007', '/post/7316447817161064483', '/post/7316450414158200847', '/post/7316447817160867875', '/post/7316450414157840399', '/post/7316450414157987855', '/post/7316447817160802339', '/post/7316450414157545487', '/post/7316592830638833715', '/post/7316447817160704035', '/post/7316450414157496335', '/post/7316451458839724067', '/post/7316451458839773219', '/post/7316450414157447183', '/post/7316447817160605731', '/post/7316450414156759055', '/post/7316374543862349858', '/post/7316353049316343823', '/post/7316371581647044643', '/post/7316371581646995491', '/post/7316382839221567488', '/post/7316592817342283826', '/post/7316565794149548047', '/post/7316592830638358579', '/post/7316592817342234674', '/post/7316592817342201906', '/post/7316102254728790035', '/post/7316115845095817251', '/post/7316202809384321033', '/post/7316321509855789096', '/post/7316145140074102847', '/post/7316409548994428966', '/post/7316382839221256192', '/post/7316382839221174272', '/post/7316353049315409935', '/post/7316382839221026816', '/post/7316367473318592538', '/post/7316382839220846592', '/post/7316202747828633651', '/post/7316429032521891876', '/post/7316592830637998131', '/post/7316592817341595698', '/post/7316471547849670695', '/post/7316592794108887091', '/post/7316349124600119332', '/post/7316349124600102948', '/post/7316347993791053860', '/post/7316349124600086564', '/post/7316539685073321984', '/post/7315720126988517391', '/post/7316202589603463195', '/post/7316145140073463871', '/post/7315773030987087906', '/post/7316300942608908298', '/post/7316202809384042505', '/post/7316202747828502579', '/post/7316202725330419739', '/post/7315862212566958119', '/post/7316346107042562074', '/post/7316202809383583753', '/post/7315850963344064551', '/post/7315126101583216690', '/post/7308933897852813362', '/post/7316456431422586891', '/post/7316357622848045075', '/post/7176649287000916028', '/post/7176295247805153340', '/post/7175490214939328570', '/post/7175128045417267256', '/post/7173667970839740424', '/post/7170905207776215071', '/post/7170655432854208543', '/post/7169485877587443726', '/post/7168443640665079845', '/post/7166981439400411149', '/post/7161046328724684831', '/post/7160677465546260510', '/post/7158423878665633799', '/post/7157386068558348296', '/post/7156976517296979981', '/post/7156618036131135501', '/post/7155872752186949646', '/post/7153989719666688037', '/post/7316539685073240064', '/post/7316582773434056715', '/post/7316418492277866559', '/post/7316540469319893027', '/post/7316592697464209434', '/post/7316540233550348323', '/post/7316592697464045594', '/post/7316540233550151715', '/post/7316539685072814080', '/post/7316540233549938723', '/post/7316457103376220175', '/post/7316349771131977747', '/post/7316532841924345856', '/post/7316592794109542451', '/post/7316592697463521306', '/post/7316592794109198387', '/post/7316415580102115382', '/post/7316349771131404307', '/post/7316415580101951542', '/post/7316539685072437248', '/post/7316592794109427763', '/post/7316540233549463587', '/post/7316532841923969024', '/post/7316532841923837952', '/post/7316349124600184868', '/post/7316532841923313664', '/post/7316457103375695887', '/post/7316592794108821555', '/post/7316457103375663119', '/post/7316539465023488000', '/post/7316539465023471616', '/post/7316447817161932835', '/post/7316532841923182592', '/post/7316539465023422464', '/post/7316532841923051520', '/post/7316349124600315940', '/post/7316532841923035136', '/post/7316447817161900067', '/post/7316451458841002019']\n"
     ]
    }
   ],
   "source": [
    "links = extract_links(\n",
    "    browser,\n",
    "    link=\"https://juejin.cn/recommended?sort=newest\",\n",
    "    extract=extract_juejin_links,\n",
    "    perform_some_actions=scroll,\n",
    "    )\n",
    "print(len(links))\n",
    "print(links)"
   ]
  },
  {
   "cell_type": "code",
   "execution_count": 6,
   "metadata": {},
   "outputs": [
    {
     "ename": "NameError",
     "evalue": "name 'crawl' is not defined",
     "output_type": "error",
     "traceback": [
      "\u001b[0;31m---------------------------------------------------------------------------\u001b[0m",
      "\u001b[0;31mNameError\u001b[0m                                 Traceback (most recent call last)",
      "Cell \u001b[0;32mIn[6], line 1\u001b[0m\n\u001b[0;32m----> 1\u001b[0m art, status \u001b[38;5;241m=\u001b[39m \u001b[43mcrawl\u001b[49m(browser, \u001b[38;5;241m629729\u001b[39m)\n\u001b[1;32m      2\u001b[0m \u001b[38;5;28mprint\u001b[39m(art)\n\u001b[1;32m      3\u001b[0m \u001b[38;5;28mprint\u001b[39m()\n",
      "\u001b[0;31mNameError\u001b[0m: name 'crawl' is not defined"
     ]
    }
   ],
   "source": [
    "art, status = crawl(browser, 629729)\n",
    "print(art)\n",
    "print()\n",
    "print(\"status:\")\n",
    "print(status)"
   ]
  },
  {
   "cell_type": "code",
   "execution_count": 4,
   "metadata": {},
   "outputs": [
    {
     "name": "stdout",
     "output_type": "stream",
     "text": [
      "[]\n"
     ]
    }
   ],
   "source": [
    "soup = BeautifulSoup(\"\", 'html.parser')\n",
    "print(soup.find_all(\"a\"))"
   ]
  },
  {
   "cell_type": "code",
   "execution_count": 5,
   "metadata": {},
   "outputs": [
    {
     "name": "stderr",
     "output_type": "stream",
     "text": [
      "100%|██████████| 10/10 [00:00<00:00, 49578.06it/s]"
     ]
    },
    {
     "name": "stdout",
     "output_type": "stream",
     "text": [
      "0\n",
      "1\n",
      "2\n",
      "3\n",
      "4\n",
      "5\n",
      "6\n",
      "7\n",
      "8\n",
      "9\n"
     ]
    },
    {
     "name": "stderr",
     "output_type": "stream",
     "text": [
      "\n"
     ]
    }
   ],
   "source": [
    "for ind, i in tqdm(list(enumerate(range(10)))):\n",
    "    print(i)"
   ]
  },
  {
   "cell_type": "code",
   "execution_count": 1,
   "metadata": {},
   "outputs": [
    {
     "ename": "AttributeError",
     "evalue": "'NoneType' object has no attribute 'find'",
     "output_type": "error",
     "traceback": [
      "\u001b[1;31m---------------------------------------------------------------------------\u001b[0m",
      "\u001b[1;31mAttributeError\u001b[0m                            Traceback (most recent call last)",
      "\u001b[1;32md:\\winuser\\Downloads\\crawler\\script\\crawler_test.ipynb Cell 11\u001b[0m line \u001b[0;36m2\n\u001b[0;32m      <a href='vscode-notebook-cell:/d%3A/winuser/Downloads/crawler/script/crawler_test.ipynb#X13sZmlsZQ%3D%3D?line=0'>1</a>\u001b[0m x \u001b[39m=\u001b[39m \u001b[39mNone\u001b[39;00m\n\u001b[1;32m----> <a href='vscode-notebook-cell:/d%3A/winuser/Downloads/crawler/script/crawler_test.ipynb#X13sZmlsZQ%3D%3D?line=1'>2</a>\u001b[0m x\u001b[39m.\u001b[39;49mfind()\n",
      "\u001b[1;31mAttributeError\u001b[0m: 'NoneType' object has no attribute 'find'"
     ]
    }
   ],
   "source": [
    "x = None\n",
    "x.find()"
   ]
  }
 ],
 "metadata": {
  "kernelspec": {
   "display_name": "Taide",
   "language": "python",
   "name": "python3"
  },
  "language_info": {
   "codemirror_mode": {
    "name": "ipython",
    "version": 3
   },
   "file_extension": ".py",
   "mimetype": "text/x-python",
   "name": "python",
   "nbconvert_exporter": "python",
   "pygments_lexer": "ipython3",
   "version": "3.10.0"
  }
 },
 "nbformat": 4,
 "nbformat_minor": 2
}

{
 "cells": [
  {
   "cell_type": "code",
   "execution_count": 1,
   "metadata": {},
   "outputs": [],
   "source": [
    "import json\n",
    "import pycld2 as cld2\n",
    "\n",
    "from bs4 import BeautifulSoup\n",
    "from tqdm import tqdm\n",
    "from pathlib import Path"
   ]
  },
  {
   "cell_type": "code",
   "execution_count": 2,
   "metadata": {},
   "outputs": [],
   "source": [
    "def load(file):\n",
    "    with open(file, 'r', encoding=\"utf-8\") as f:\n",
    "        return f.read()\n",
    "        \n",
    "def save(file, string):\n",
    "    with open(file, 'w', encoding=\"utf-8\") as f:\n",
    "        f.write(string)\n",
    "        \n",
    "def load_jsonl(file):\n",
    "    with open(file, 'r', encoding=\"utf-8\") as f:\n",
    "        return [json.loads(line.strip()) for line in f]\n",
    "\n",
    "def save_jsonl(file, obj_list):\n",
    "    jstrings = [json.dumps(obj, ensure_ascii=False) for obj in obj_list]\n",
    "    save(\n",
    "        file,\n",
    "        '\\n'.join(jstrings) + '\\n'\n",
    "        )"
   ]
  },
  {
   "cell_type": "markdown",
   "metadata": {},
   "source": [
    "## Extract Data"
   ]
  },
  {
   "cell_type": "code",
   "execution_count": 76,
   "metadata": {},
   "outputs": [],
   "source": [
    "def extract_data(html_art):\n",
    "    metadata = json.loads(html_art[\"metadata\"])\n",
    "    article_part = BeautifulSoup(html_art[\"article_part\"], 'html.parser')\n",
    "\n",
    "    # extract headlines\n",
    "    headline = html_art[\"headline\"]\n",
    "    isReliable, textBytesFound, details, vectors = cld2.detect(\n",
    "        headline, returnVectors=True\n",
    "    )\n",
    "    # print(headline)\n",
    "    # print(vectors)\n",
    "\n",
    "    # assert len(vectors) == 2, html_art[\"id\"]\n",
    "    en_headline = headline[vectors[0][0]:vectors[0][1]].strip()\n",
    "    zh_headline = headline[vectors[0][1]:].strip()\n",
    "\n",
    "    # extract articles\n",
    "    paras = article_part.find_all(\"p\")\n",
    "    description = paras[0].get_text(separator='\\n')\n",
    "\n",
    "    en_text = []\n",
    "    zh_text = []\n",
    "    collecting_en = True\n",
    "    for p in paras[1:]:\n",
    "        # print(p)\n",
    "\n",
    "        if p.text == '\\xa0':\n",
    "            collecting_en = False\n",
    "            continue\n",
    "\n",
    "        text = p.get_text(separator='\\n')\n",
    "        # print(text)\n",
    "\n",
    "        if collecting_en:\n",
    "            en_text.append(text)\n",
    "        else:\n",
    "            zh_text.append(text)\n",
    "\n",
    "    en_text = '\\n'.join(en_text)\n",
    "    zh_text = '\\n'.join(zh_text)\n",
    "\n",
    "    if not en_text or not zh_text:\n",
    "        return None\n",
    "    \n",
    "    en_text = f\"{en_headline}\\n\\n{en_text}\"\n",
    "    zh_text = f\"{zh_headline}\\n\\n{zh_text}\"\n",
    "\n",
    "    return {\n",
    "        \"PTS_id\": html_art[\"id\"],\n",
    "        \"en_text\": en_text,\n",
    "        \"zh_text\": zh_text,\n",
    "        \"description\": description,\n",
    "        \"url\": metadata[\"url\"],\n",
    "        \"headline\": html_art[\"headline\"],\n",
    "        \"keywords\": metadata.get(\"keywords\") or [],\n",
    "        \"datePublished\": metadata[\"datePublished\"],\n",
    "    }"
   ]
  },
  {
   "cell_type": "code",
   "execution_count": 7,
   "metadata": {},
   "outputs": [],
   "source": [
    "input_file = \"/home/zchen/crawler/data/PTS/raw/articles_0-100.jsonl\"\n",
    "html_arts = load_jsonl(input_file)"
   ]
  },
  {
   "cell_type": "code",
   "execution_count": 69,
   "metadata": {},
   "outputs": [
    {
     "name": "stdout",
     "output_type": "stream",
     "text": [
      "President Departs for Central America 小英訪瓜地馬拉.貝里斯  行前發表談話\n",
      "((0, 38, 'Unknown', 'un'), (38, 51, 'ChineseT', 'zh-Hant'))\n",
      "President Departs for Central America\n",
      "小英訪瓜地馬拉.貝里斯  行前發表談話\n",
      "<p>Tsai Ing-wen, President: “Freedom, democracy, and sustainability are the values of Taiwan that we want to share with our good friends from all over the world. Leading a country out is a president's most important responsibility. During this visit, we will convey Taiwan's three viewpoints to the world. The first is that Taiwan will share the value of freedom and openness with the world. We are a maritime nation and the world's Taiwan so we will absolutely not isolate ourselves in a corner of the Taiwan Strait. We also hope to find a bigger space for Taiwan as well as business opportunities during this visit.”<br/><br/><br/><br/><br/>總統蔡英文表示：「自由、民主、永續，是我們想和全世界的好朋友分享的台灣價值，帶領國家走出去就是總統最重要的任務，那這次出訪我們將會向世界傳達台灣的三個主張，第一，台灣會和世界共享自由開放的價值，我們是海洋國家，是世界的台灣，所以我們絕對不會把自己封閉在台灣海峽的一角，我們也期待在出訪的時候，為台灣尋找更大的空間，以及商機。」<br/><br/> </p>\n",
      "Tsai Ing-wen, President: “Freedom, democracy, and sustainability are the values of Taiwan that we want to share with our good friends from all over the world. Leading a country out is a president's most important responsibility. During this visit, we will convey Taiwan's three viewpoints to the world. The first is that Taiwan will share the value of freedom and openness with the world. We are a maritime nation and the world's Taiwan so we will absolutely not isolate ourselves in a corner of the Taiwan Strait. We also hope to find a bigger space for Taiwan as well as business opportunities during this visit.”\n",
      "總統蔡英文表示：「自由、民主、永續，是我們想和全世界的好朋友分享的台灣價值，帶領國家走出去就是總統最重要的任務，那這次出訪我們將會向世界傳達台灣的三個主張，第一，台灣會和世界共享自由開放的價值，我們是海洋國家，是世界的台灣，所以我們絕對不會把自己封閉在台灣海峽的一角，我們也期待在出訪的時候，為台灣尋找更大的空間，以及商機。」\n",
      " \n",
      "\n",
      "None\n"
     ]
    }
   ],
   "source": [
    "art = extract_data(html_arts[4])\n",
    "print()\n",
    "print(art)"
   ]
  },
  {
   "cell_type": "code",
   "execution_count": 77,
   "metadata": {},
   "outputs": [
    {
     "name": "stderr",
     "output_type": "stream",
     "text": [
      "100%|██████████| 900/900 [00:00<00:00, 1524.15it/s]\n"
     ]
    }
   ],
   "source": [
    "input_file = \"/home/zchen/crawler/data/PTS/raw/articles_0-100.jsonl\"\n",
    "out_path = \"/home/zchen/crawler/data/PTS/extracted\"\n",
    "\n",
    "html_arts = load_jsonl(input_file)\n",
    "arts = []\n",
    "for html_art in tqdm(html_arts):\n",
    "    art = extract_data(html_art)\n",
    "    if art is not None:\n",
    "        arts.append(art)\n",
    "\n",
    "out_path = Path(out_path)\n",
    "out_path.mkdir(parents=True, exist_ok=True)\n",
    "file_name = Path(input_file).name\n",
    "\n",
    "save_jsonl(\n",
    "    out_path / file_name,\n",
    "    arts\n",
    "    )"
   ]
  },
  {
   "cell_type": "markdown",
   "metadata": {},
   "source": [
    "## Merge datafiles"
   ]
  },
  {
   "cell_type": "code",
   "execution_count": 49,
   "metadata": {},
   "outputs": [],
   "source": [
    "datapath = r\"D:\\winuser\\Downloads\\crawler\\data\\extracted\"\n",
    "out_file = r\"D:\\winuser\\Downloads\\crawler\\data\\RTL_Taiwan_EN_news_(partial).jsonl\"\n",
    "\n",
    "files = Path(datapath).glob(\"*\")\n",
    "data = {}\n",
    "for f in files:\n",
    "    arts = {art[\"PTS_id\"]: art for art in load_jsonl(f)}\n",
    "    data |= arts\n",
    "    \n",
    "save_jsonl(out_file, data.values())"
   ]
  }
 ],
 "metadata": {
  "kernelspec": {
   "display_name": "Python 3",
   "language": "python",
   "name": "python3"
  },
  "language_info": {
   "codemirror_mode": {
    "name": "ipython",
    "version": 3
   },
   "file_extension": ".py",
   "mimetype": "text/x-python",
   "name": "python",
   "nbconvert_exporter": "python",
   "pygments_lexer": "ipython3",
   "version": "3.10.0"
  }
 },
 "nbformat": 4,
 "nbformat_minor": 2
}

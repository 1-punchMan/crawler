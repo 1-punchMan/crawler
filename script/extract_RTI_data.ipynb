{
 "cells": [
  {
   "cell_type": "code",
   "execution_count": 1,
   "metadata": {},
   "outputs": [],
   "source": [
    "import json\n",
    "\n",
    "from bs4 import BeautifulSoup\n",
    "from tqdm import tqdm\n",
    "from pathlib import Path"
   ]
  },
  {
   "cell_type": "code",
   "execution_count": 2,
   "metadata": {},
   "outputs": [],
   "source": [
    "def load(file):\n",
    "    with open(file, 'r', encoding=\"utf-8\") as f:\n",
    "        return f.read()\n",
    "        \n",
    "def save(file, string):\n",
    "    with open(file, 'w', encoding=\"utf-8\") as f:\n",
    "        f.write(string)\n",
    "        \n",
    "def load_jsonl(file):\n",
    "    with open(file, 'r', encoding=\"utf-8\") as f:\n",
    "        return [json.loads(line.strip()) for line in f]\n",
    "\n",
    "def save_jsonl(file, obj_list):\n",
    "    jstrings = [json.dumps(obj, ensure_ascii=False) for obj in obj_list]\n",
    "    save(\n",
    "        file,\n",
    "        '\\n'.join(jstrings) + '\\n'\n",
    "        )"
   ]
  },
  {
   "cell_type": "markdown",
   "metadata": {},
   "source": [
    "## Extract Data"
   ]
  },
  {
   "cell_type": "code",
   "execution_count": null,
   "metadata": {},
   "outputs": [],
   "source": [
    "def extract_data(html_art):\n",
    "    metadata = json.loads(html_art[\"metadata\"])[0]\n",
    "    article_part = BeautifulSoup(html_art[\"article_part\"], 'html.parser')\n",
    "\n",
    "    paras = article_part.find(\"article\").find_all(\"p\")\n",
    "    art = '\\n'.join([p.text for p in paras])\n",
    "    if not art:\n",
    "        return None\n",
    "    text = f\"{metadata['headline']}\\n\\n{art}\"\n",
    "\n",
    "    return {\n",
    "        \"RTI_id\": html_art[\"id\"],\n",
    "        \"text\": text,\n",
    "        \"url\": metadata[\"url\"],\n",
    "        \"headline\": metadata[\"headline\"],\n",
    "        \"articleSection\": metadata[\"articleSection\"],\n",
    "        \"datePublished\": metadata[\"datePublished\"],\n",
    "    }"
   ]
  },
  {
   "cell_type": "code",
   "execution_count": 27,
   "metadata": {},
   "outputs": [
    {
     "ename": "JSONDecodeError",
     "evalue": "Expecting value: line 2 column 1 (char 1)",
     "output_type": "error",
     "traceback": [
      "\u001b[1;31m---------------------------------------------------------------------------\u001b[0m",
      "\u001b[1;31mJSONDecodeError\u001b[0m                           Traceback (most recent call last)",
      "\u001b[1;32md:\\winuser\\Downloads\\crawler\\script\\extract_data.ipynb Cell 4\u001b[0m line \u001b[0;36m2\n\u001b[0;32m      <a href='vscode-notebook-cell:/d%3A/winuser/Downloads/crawler/script/extract_data.ipynb#W3sZmlsZQ%3D%3D?line=0'>1</a>\u001b[0m input_file \u001b[39m=\u001b[39m \u001b[39mr\u001b[39m\u001b[39m\"\u001b[39m\u001b[39mD:\u001b[39m\u001b[39m\\\u001b[39m\u001b[39mwinuser\u001b[39m\u001b[39m\\\u001b[39m\u001b[39mDownloads\u001b[39m\u001b[39m\\\u001b[39m\u001b[39mcrawler\u001b[39m\u001b[39m\\\u001b[39m\u001b[39mdata\u001b[39m\u001b[39m\\\u001b[39m\u001b[39mraw\u001b[39m\u001b[39m\\\u001b[39m\u001b[39marticles_500-1000.jsonl\u001b[39m\u001b[39m\"\u001b[39m\n\u001b[1;32m----> <a href='vscode-notebook-cell:/d%3A/winuser/Downloads/crawler/script/extract_data.ipynb#W3sZmlsZQ%3D%3D?line=1'>2</a>\u001b[0m html_arts \u001b[39m=\u001b[39m load_jsonl(input_file)\n",
      "\u001b[1;32md:\\winuser\\Downloads\\crawler\\script\\extract_data.ipynb Cell 4\u001b[0m line \u001b[0;36m1\n\u001b[0;32m      <a href='vscode-notebook-cell:/d%3A/winuser/Downloads/crawler/script/extract_data.ipynb#W3sZmlsZQ%3D%3D?line=8'>9</a>\u001b[0m \u001b[39mdef\u001b[39;00m \u001b[39mload_jsonl\u001b[39m(file):\n\u001b[0;32m     <a href='vscode-notebook-cell:/d%3A/winuser/Downloads/crawler/script/extract_data.ipynb#W3sZmlsZQ%3D%3D?line=9'>10</a>\u001b[0m     \u001b[39mwith\u001b[39;00m \u001b[39mopen\u001b[39m(file, \u001b[39m'\u001b[39m\u001b[39mr\u001b[39m\u001b[39m'\u001b[39m, encoding\u001b[39m=\u001b[39m\u001b[39m\"\u001b[39m\u001b[39mutf-8\u001b[39m\u001b[39m\"\u001b[39m) \u001b[39mas\u001b[39;00m f:\n\u001b[1;32m---> <a href='vscode-notebook-cell:/d%3A/winuser/Downloads/crawler/script/extract_data.ipynb#W3sZmlsZQ%3D%3D?line=10'>11</a>\u001b[0m         \u001b[39mreturn\u001b[39;00m [json\u001b[39m.\u001b[39mloads(line) \u001b[39mfor\u001b[39;00m line \u001b[39min\u001b[39;00m f]\n",
      "\u001b[1;32md:\\winuser\\Downloads\\crawler\\script\\extract_data.ipynb Cell 4\u001b[0m line \u001b[0;36m1\n\u001b[0;32m      <a href='vscode-notebook-cell:/d%3A/winuser/Downloads/crawler/script/extract_data.ipynb#W3sZmlsZQ%3D%3D?line=8'>9</a>\u001b[0m \u001b[39mdef\u001b[39;00m \u001b[39mload_jsonl\u001b[39m(file):\n\u001b[0;32m     <a href='vscode-notebook-cell:/d%3A/winuser/Downloads/crawler/script/extract_data.ipynb#W3sZmlsZQ%3D%3D?line=9'>10</a>\u001b[0m     \u001b[39mwith\u001b[39;00m \u001b[39mopen\u001b[39m(file, \u001b[39m'\u001b[39m\u001b[39mr\u001b[39m\u001b[39m'\u001b[39m, encoding\u001b[39m=\u001b[39m\u001b[39m\"\u001b[39m\u001b[39mutf-8\u001b[39m\u001b[39m\"\u001b[39m) \u001b[39mas\u001b[39;00m f:\n\u001b[1;32m---> <a href='vscode-notebook-cell:/d%3A/winuser/Downloads/crawler/script/extract_data.ipynb#W3sZmlsZQ%3D%3D?line=10'>11</a>\u001b[0m         \u001b[39mreturn\u001b[39;00m [json\u001b[39m.\u001b[39;49mloads(line) \u001b[39mfor\u001b[39;00m line \u001b[39min\u001b[39;00m f]\n",
      "File \u001b[1;32mc:\\Users\\winuser\\miniconda3\\lib\\json\\__init__.py:346\u001b[0m, in \u001b[0;36mloads\u001b[1;34m(s, cls, object_hook, parse_float, parse_int, parse_constant, object_pairs_hook, **kw)\u001b[0m\n\u001b[0;32m    341\u001b[0m     s \u001b[39m=\u001b[39m s\u001b[39m.\u001b[39mdecode(detect_encoding(s), \u001b[39m'\u001b[39m\u001b[39msurrogatepass\u001b[39m\u001b[39m'\u001b[39m)\n\u001b[0;32m    343\u001b[0m \u001b[39mif\u001b[39;00m (\u001b[39mcls\u001b[39m \u001b[39mis\u001b[39;00m \u001b[39mNone\u001b[39;00m \u001b[39mand\u001b[39;00m object_hook \u001b[39mis\u001b[39;00m \u001b[39mNone\u001b[39;00m \u001b[39mand\u001b[39;00m\n\u001b[0;32m    344\u001b[0m         parse_int \u001b[39mis\u001b[39;00m \u001b[39mNone\u001b[39;00m \u001b[39mand\u001b[39;00m parse_float \u001b[39mis\u001b[39;00m \u001b[39mNone\u001b[39;00m \u001b[39mand\u001b[39;00m\n\u001b[0;32m    345\u001b[0m         parse_constant \u001b[39mis\u001b[39;00m \u001b[39mNone\u001b[39;00m \u001b[39mand\u001b[39;00m object_pairs_hook \u001b[39mis\u001b[39;00m \u001b[39mNone\u001b[39;00m \u001b[39mand\u001b[39;00m \u001b[39mnot\u001b[39;00m kw):\n\u001b[1;32m--> 346\u001b[0m     \u001b[39mreturn\u001b[39;00m _default_decoder\u001b[39m.\u001b[39;49mdecode(s)\n\u001b[0;32m    347\u001b[0m \u001b[39mif\u001b[39;00m \u001b[39mcls\u001b[39m \u001b[39mis\u001b[39;00m \u001b[39mNone\u001b[39;00m:\n\u001b[0;32m    348\u001b[0m     \u001b[39mcls\u001b[39m \u001b[39m=\u001b[39m JSONDecoder\n",
      "File \u001b[1;32mc:\\Users\\winuser\\miniconda3\\lib\\json\\decoder.py:337\u001b[0m, in \u001b[0;36mJSONDecoder.decode\u001b[1;34m(self, s, _w)\u001b[0m\n\u001b[0;32m    332\u001b[0m \u001b[39mdef\u001b[39;00m \u001b[39mdecode\u001b[39m(\u001b[39mself\u001b[39m, s, _w\u001b[39m=\u001b[39mWHITESPACE\u001b[39m.\u001b[39mmatch):\n\u001b[0;32m    333\u001b[0m \u001b[39m    \u001b[39m\u001b[39m\"\"\"Return the Python representation of ``s`` (a ``str`` instance\u001b[39;00m\n\u001b[0;32m    334\u001b[0m \u001b[39m    containing a JSON document).\u001b[39;00m\n\u001b[0;32m    335\u001b[0m \n\u001b[0;32m    336\u001b[0m \u001b[39m    \"\"\"\u001b[39;00m\n\u001b[1;32m--> 337\u001b[0m     obj, end \u001b[39m=\u001b[39m \u001b[39mself\u001b[39;49m\u001b[39m.\u001b[39;49mraw_decode(s, idx\u001b[39m=\u001b[39;49m_w(s, \u001b[39m0\u001b[39;49m)\u001b[39m.\u001b[39;49mend())\n\u001b[0;32m    338\u001b[0m     end \u001b[39m=\u001b[39m _w(s, end)\u001b[39m.\u001b[39mend()\n\u001b[0;32m    339\u001b[0m     \u001b[39mif\u001b[39;00m end \u001b[39m!=\u001b[39m \u001b[39mlen\u001b[39m(s):\n",
      "File \u001b[1;32mc:\\Users\\winuser\\miniconda3\\lib\\json\\decoder.py:355\u001b[0m, in \u001b[0;36mJSONDecoder.raw_decode\u001b[1;34m(self, s, idx)\u001b[0m\n\u001b[0;32m    353\u001b[0m     obj, end \u001b[39m=\u001b[39m \u001b[39mself\u001b[39m\u001b[39m.\u001b[39mscan_once(s, idx)\n\u001b[0;32m    354\u001b[0m \u001b[39mexcept\u001b[39;00m \u001b[39mStopIteration\u001b[39;00m \u001b[39mas\u001b[39;00m err:\n\u001b[1;32m--> 355\u001b[0m     \u001b[39mraise\u001b[39;00m JSONDecodeError(\u001b[39m\"\u001b[39m\u001b[39mExpecting value\u001b[39m\u001b[39m\"\u001b[39m, s, err\u001b[39m.\u001b[39mvalue) \u001b[39mfrom\u001b[39;00m \u001b[39mNone\u001b[39;00m\n\u001b[0;32m    356\u001b[0m \u001b[39mreturn\u001b[39;00m obj, end\n",
      "\u001b[1;31mJSONDecodeError\u001b[0m: Expecting value: line 2 column 1 (char 1)"
     ]
    }
   ],
   "source": [
    "input_file = r\"D:\\winuser\\Downloads\\crawler\\data\\raw\\articles_500-1000.jsonl\"\n",
    "html_arts = load_jsonl(input_file)"
   ]
  },
  {
   "cell_type": "code",
   "execution_count": 21,
   "metadata": {},
   "outputs": [
    {
     "name": "stdout",
     "output_type": "stream",
     "text": [
      "{'@context': 'http://schema.org', '@type': 'NewsArticle', 'thumbnailUrl': 'https://en-static.rti.org.tw/assets/thumbnails/2017/01/19/20170119000078M.jpg', 'url': 'https://en.rti.org.tw/news/view/id/61581', 'mainEntityOfPage': 'https://en.rti.org.tw/news/view/id/61581', 'headline': 'Former premier meets US congressmen at Capitol', 'articleSection': 'Taiwan News', 'datePublished': '2017-01-19T00:00:00+08:00', 'dateModified': '2017-01-19T00:00:00+08:00', 'keywords': '', 'image': {'@type': 'ImageObject', 'contentUrl': 'https://en-static.rti.org.tw/assets/thumbnails/2017/01/19/20170119000078M.jpg', 'url': 'https://en-static.rti.org.tw/assets/thumbnails/2017/01/19/20170119000078M.jpg', 'name': 'Former premier Yu Shyi-kun', 'height': 451, 'width': 800}, 'author': {'@type': 'Person', 'name': 'Editor'}, 'publisher': {'@type': 'Organization', 'name': '中央廣播電臺 RTI Radio Taiwan International', 'email': 'rtiwebt@rti.org.tw', 'url': 'https://www.rti.org.tw', 'sameAs': '', 'logo': {'@type': 'ImageObject', 'url': 'https://en.rti.org.tw/img/fb-rti-logo.png', 'height': 1024, 'width': 576}}}\n",
      "\n",
      "{'RTI_id': 61581, 'text': 'Former premier meets US congressmen at Capitol\\n\\nFormer premier Yu Shyi-kun met with a number of US congressmen and politicians at the Capitol in Washington DC on Wednesday morning local time. Yu is in the United States to attend the inauguration of President-elect Donald Trump on Friday.\\nCongressman Mo Brooks shared on Twitter a photo of himself and Yu’s delegation. Brooks said he appreciates the friendship that the US has with Taiwan and the presence of Yu and his delegation. Yu also exchanged views with Congressman Ed Royce on strengthening ties between the two sides.\\nAs to the possibility that the US might adjust the One China policy, Yu responded that this relates to US policy, not Taiwan’s. He said Taiwan hopes the US will hold to the Taiwan Relations Act and the Six Assurances. These are long-standing guidelines for Taiwan-US ties in the absence of formal diplomatic relations. Yu said cross-strait relations must be pragmatic and frank.\\nYu also said Taiwan does not have to meddle in how the US deals with Beijing. As to how Taiwan sees US relations, Yu said there should at least not be too much of an imbalance in military power between Taiwan and China and that Taiwan should have the capability to defend itself.\\nYu said the world is waiting to see the policy direction Trump will take once in office. As for Taiwan, Yu said the phone call between President Tsai Ing-wen and Donald Trump in December raised the visibility of Taiwan in the world.'}\n"
     ]
    }
   ],
   "source": [
    "art = extract_data(html_arts[1])\n",
    "print()\n",
    "print(art)"
   ]
  },
  {
   "cell_type": "code",
   "execution_count": 26,
   "metadata": {},
   "outputs": [
    {
     "name": "stderr",
     "output_type": "stream",
     "text": [
      "100%|██████████| 5460/5460 [00:22<00:00, 247.34it/s]\n"
     ]
    }
   ],
   "source": [
    "input_file = r\"D:\\winuser\\Downloads\\crawler\\data\\raw\\articles_500-1000.jsonl\"\n",
    "out_path = r\"D:\\winuser\\Downloads\\crawler\\data\\extracted\"\n",
    "\n",
    "html_arts = load_jsonl(input_file)\n",
    "arts = []\n",
    "for html_art in tqdm(html_arts):\n",
    "    art = extract_data(html_art)\n",
    "    if art is not None:\n",
    "        arts.append(art)\n",
    "\n",
    "out_path = Path(out_path)\n",
    "out_path.mkdir(parents=True, exist_ok=True)\n",
    "file_name = Path(input_file).name\n",
    "\n",
    "save_jsonl(\n",
    "    out_path / file_name,\n",
    "    arts\n",
    "    )"
   ]
  },
  {
   "cell_type": "markdown",
   "metadata": {},
   "source": [
    "## Merge datafiles"
   ]
  },
  {
   "cell_type": "code",
   "execution_count": 49,
   "metadata": {},
   "outputs": [],
   "source": [
    "datapath = r\"D:\\winuser\\Downloads\\crawler\\data\\extracted\"\n",
    "out_file = r\"D:\\winuser\\Downloads\\crawler\\data\\RTL_Taiwan_EN_news_(partial).jsonl\"\n",
    "\n",
    "files = Path(datapath).glob(\"*\")\n",
    "data = {}\n",
    "for f in files:\n",
    "    arts = {art[\"RTI_id\"]: art for art in load_jsonl(f)}\n",
    "    data |= arts\n",
    "    \n",
    "save_jsonl(out_file, data.values())"
   ]
  }
 ],
 "metadata": {
  "kernelspec": {
   "display_name": "Python 3",
   "language": "python",
   "name": "python3"
  },
  "language_info": {
   "codemirror_mode": {
    "name": "ipython",
    "version": 3
   },
   "file_extension": ".py",
   "mimetype": "text/x-python",
   "name": "python",
   "nbconvert_exporter": "python",
   "pygments_lexer": "ipython3",
   "version": "3.10.0"
  }
 },
 "nbformat": 4,
 "nbformat_minor": 2
}
